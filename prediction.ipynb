{
 "cells": [
  {
   "cell_type": "code",
   "execution_count": 21,
   "metadata": {},
   "outputs": [],
   "source": [
    "from sklearn.model_selection import train_test_split\n",
    "from sklearn.ensemble import RandomForestClassifier\n",
    "import pandas as pd\n",
    "from sklearn.preprocessing import LabelEncoder\n",
    "from sklearn.metrics import ConfusionMatrixDisplay\n",
    "import matplotlib.pyplot as plt\n",
    "from sklearn.metrics import classification_report\n",
    "\n",
    "\n"
   ]
  },
  {
   "cell_type": "code",
   "execution_count": 2,
   "metadata": {},
   "outputs": [],
   "source": [
    "df = pd.read_csv('players_15.csv')"
   ]
  },
  {
   "cell_type": "code",
   "execution_count": 3,
   "metadata": {},
   "outputs": [],
   "source": [
    "X = [\n",
    "    \"attacking_crossing\",\n",
    "    \"attacking_finishing\",\n",
    "    \"attacking_heading_accuracy\",\n",
    "    \"attacking_short_passing\",\n",
    "    \"attacking_volleys\",\n",
    "    \"skill_dribbling\",\n",
    "    \"skill_curve\",\n",
    "    \"skill_fk_accuracy\",\n",
    "    \"skill_long_passing\",\n",
    "    \"skill_ball_control\",\n",
    "    \"movement_acceleration\",\n",
    "    \"movement_sprint_speed\",\n",
    "    \"movement_agility\",\n",
    "    \"movement_reactions\",\n",
    "    \"movement_balance\",\n",
    "    \"power_shot_power\",\n",
    "    \"power_jumping\",\n",
    "    \"power_stamina\",\n",
    "    \"power_strength\",\n",
    "    \"power_long_shots\",\n",
    "    \"mentality_aggression\",\n",
    "    \"mentality_interceptions\",\n",
    "    \"mentality_positioning\",\n",
    "    \"mentality_vision\",\n",
    "    \"mentality_penalties\",\n",
    "    \"defending_marking\",\n",
    "    \"defending_standing_tackle\",\n",
    "    \"defending_sliding_tackle\",\n",
    "    \"goalkeeping_diving\",\n",
    "    \"goalkeeping_handling\",\n",
    "    \"goalkeeping_kicking\",\n",
    "    \"goalkeeping_positioning\",\n",
    "    \"goalkeeping_reflexes\",\n",
    "]\n"
   ]
  },
  {
   "cell_type": "code",
   "execution_count": 4,
   "metadata": {},
   "outputs": [],
   "source": [
    "def parse_stat(value):\n",
    "    if '+' in value:\n",
    "        base,bonus=value.split('+')\n",
    "        return float(base)+float(bonus)\n",
    "    elif '-' in value:\n",
    "        base,bonus=value.split('-')\n",
    "        return float(base)-float(bonus)\n",
    "    return float(value)\n",
    "\n",
    "# colums_to_fix = X\n",
    "for col in X:\n",
    "    df[col]=df[col].apply(parse_stat)"
   ]
  },
  {
   "cell_type": "code",
   "execution_count": 5,
   "metadata": {},
   "outputs": [
    {
     "name": "stdout",
     "output_type": "stream",
     "text": [
      "Кодирование целевой переменной завершено\n",
      "Размеры данных:\n",
      "x_train: (12372, 33), y_train: (12372,)\n",
      "x_test: (3093, 33), y_test: (3093,)\n",
      "Обучение модели успешно завершено\n",
      "Точность модели на тестовой выборке: 0.4267701260911736\n"
     ]
    }
   ],
   "source": [
    "from sklearn.model_selection import train_test_split\n",
    "from sklearn.ensemble import RandomForestClassifier\n",
    "from sklearn.preprocessing import LabelEncoder\n",
    "from sklearn.metrics import classification_report\n",
    "import pandas as pd\n",
    "import numpy as np\n",
    "\n",
    "\n",
    "encoder = LabelEncoder()\n",
    "df['player_positions_encoded'] = encoder.fit_transform(df['player_positions'])\n",
    "print(\"Кодирование целевой переменной завершено\")\n",
    "\n",
    "\n",
    "X = df[X]  \n",
    "y = df['player_positions_encoded']  \n",
    "\n",
    "\n",
    "x_train, x_test, y_train, y_test = train_test_split(X, y, test_size=0.2, random_state=42)\n",
    "\n",
    "print(\"Размеры данных:\")\n",
    "print(f\"x_train: {x_train.shape}, y_train: {y_train.shape}\")\n",
    "print(f\"x_test: {x_test.shape}, y_test: {y_test.shape}\")\n",
    "\n",
    "\n",
    "try:\n",
    "    model = RandomForestClassifier()\n",
    "    model.fit(x_train, y_train)\n",
    "    print(\"Обучение модели успешно завершено\")\n",
    "    print(\"Точность модели на тестовой выборке:\", model.score(x_test, y_test))\n",
    "except Exception as e:\n",
    "    print(\"Ошибка во время обучения модели:\", e)\n",
    "\n"
   ]
  },
  {
   "cell_type": "code",
   "execution_count": 26,
   "metadata": {},
   "outputs": [
    {
     "name": "stdout",
     "output_type": "stream",
     "text": [
      "Предсказанная позиция: LM, RM\n"
     ]
    }
   ],
   "source": [
    "new_data = pd.DataFrame({\n",
    "    'attacking_crossing': [84],\n",
    "    'attacking_finishing': [94],\n",
    "    'attacking_heading_accuracy': [94],\n",
    "    \"attacking_short_passing\":[89],\n",
    "    \"attacking_volleys\":[85],\n",
    "    \"skill_dribbling\":[96],\n",
    "    \"skill_curve\":[89],\n",
    "    \"skill_fk_accuracy\":[90],\n",
    "    \"skill_long_passing\":[76],\n",
    "    \"skill_ball_control\":[96],\n",
    "    \"movement_acceleration\":[96],\n",
    "    \"movement_sprint_speed\":[90],\n",
    "    \"movement_agility\":[94],\n",
    "    \"movement_reactions\":[94],\n",
    "    \"movement_balance\":[95],\n",
    "    \"power_shot_power\":[80],\n",
    "    \"power_jumping\":[73],\n",
    "    \"power_stamina\":[77],\n",
    "    \"power_strength\":[60],\n",
    "    \"power_long_shots\":[88],\n",
    "    \"mentality_aggression\":[48],\n",
    "    \"mentality_interceptions\":[22],\n",
    "    \"mentality_positioning\":[92],\n",
    "    \"mentality_vision\":[90],\n",
    "    \"mentality_penalties\":[76],\n",
    "    \"defending_marking\":[25],\n",
    "    \"defending_standing_tackle\":[21],\n",
    "    \"defending_sliding_tackle\":[20],\n",
    "    \"goalkeeping_diving\":[6],\n",
    "    \"goalkeeping_handling\":[11],\n",
    "    \"goalkeeping_kicking\":[15],\n",
    "    \"goalkeeping_positioning\":[14],\n",
    "    \"goalkeeping_reflexes\":[8],\n",
    "})\n",
    "\n",
    "\n",
    "new_pred = model.predict(new_data)\n",
    "predicted_class = encoder.inverse_transform(new_pred)\n",
    "print(f\"Предсказанная позиция: {predicted_class[0]}\")\n",
    "\n",
    "# ответ ST, вводил данные Messi, CF, данные очень похожие поэтому нельзя точно определить позицию на поле\n",
    "#"
   ]
  },
  {
   "cell_type": "code",
   "execution_count": null,
   "metadata": {},
   "outputs": [],
   "source": []
  }
 ],
 "metadata": {
  "kernelspec": {
   "display_name": ".venv",
   "language": "python",
   "name": "python3"
  },
  "language_info": {
   "codemirror_mode": {
    "name": "ipython",
    "version": 3
   },
   "file_extension": ".py",
   "mimetype": "text/x-python",
   "name": "python",
   "nbconvert_exporter": "python",
   "pygments_lexer": "ipython3",
   "version": "3.10.11"
  }
 },
 "nbformat": 4,
 "nbformat_minor": 2
}
